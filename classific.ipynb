{
 "cells": [
  {
   "cell_type": "markdown",
   "metadata": {},
   "source": [
    "### Importando todos os pacotes necessários para iniciar a tarefa de análise e classificação"
   ]
  },
  {
   "cell_type": "code",
   "execution_count": 7,
   "metadata": {},
   "outputs": [],
   "source": [
    "# Vídeo fonte para a explicação desta análise/predição: https://www.youtube.com/watch?v=F6YyPbyoH9I\n",
    "\n",
    "import numpy as np\n",
    "import matplotlib.pyplot as plt\n",
    "import warnings\n",
    "from sklearn import datasets\n",
    "from sklearn.metrics import confusion_matrix, classification_report\n",
    "from sklearn.model_selection import train_test_split\n",
    "from sklearn.neighbors import KNeighborsClassifier\n"
   ]
  },
  {
   "cell_type": "code",
   "execution_count": 8,
   "metadata": {},
   "outputs": [],
   "source": [
    "warnings.filterwarnings('ignore')"
   ]
  },
  {
   "cell_type": "code",
   "execution_count": 9,
   "metadata": {},
   "outputs": [
    {
     "data": {
      "image/png": "[encoded data removed]",
      "text/plain": [
       "<Figure size 432x288 with 4 Axes>"
      ]
     },
     "metadata": {
      "needs_background": "light"
     },
     "output_type": "display_data"
    }
   ],
   "source": [
    "img_and_labels = list(zip(img_digitos.images, img_digitos.target))\n",
    "for index, (image, label) in enumerate(img_and_labels[:4]):\n",
    "    plt.subplot(2,4,index+1)\n",
    "    plt.axis('off')\n",
    "    plt.imshow(image, cmap= plt.cm.gray_r, interpolation='nearest')\n",
    "    plt.title('Label %i' % label)"
   ]
  },
  {
   "cell_type": "code",
   "execution_count": 11,
   "metadata": {},
   "outputs": [
    {
     "data": {
      "text/plain": [
       "((1797, 64), (1797,))"
      ]
     },
     "execution_count": 11,
     "metadata": {},
     "output_type": "execute_result"
    }
   ],
   "source": [
    "X = img_digitos.data\n",
    "Y = img_digitos.target\n",
    "\n",
    "X.shape, Y.shape"
   ]
  },
  {
   "cell_type": "markdown",
   "metadata": {},
   "source": [
    "### Classificação com KNN - Pré-processamento e Normalização"
   ]
  },
  {
   "cell_type": "code",
   "execution_count": 15,
   "metadata": {},
   "outputs": [],
   "source": [
    "# Divisão dos dados para treino e para teste\n",
    "X_train, test_Data, Y_train, test_Labels = train_test_split(X, Y, test_size=0.25, random_state=42)"
   ]
  },
  {
   "cell_type": "code",
   "execution_count": 16,
   "metadata": {},
   "outputs": [],
   "source": [
    "#Divisão para treino e para validação\n",
    "train_Data, valid_Data, train_Labels, valid_Labels = train_test_split(X_train, Y_train, test_size=0.1, random_state=84)"
   ]
  },
  {
   "cell_type": "code",
   "execution_count": 17,
   "metadata": {},
   "outputs": [
    {
     "name": "stdout",
     "output_type": "stream",
     "text": [
      "Exemplos de treino: 1212\n",
      "Exemplos de validação: 135\n",
      "Exemplos de teste: 450\n"
     ]
    }
   ],
   "source": [
    "print(f\"Exemplos de treino: {len(train_Labels)}\")\n",
    "print(f\"Exemplos de validação: {len(valid_Labels)}\")\n",
    "print(f\"Exemplos de teste: {len(test_Labels)}\")"
   ]
  },
  {
   "cell_type": "code",
   "execution_count": 18,
   "metadata": {},
   "outputs": [],
   "source": [
    "# Normalização das imagens pela média\n",
    "\n",
    "# Média do dataset de treino\n",
    "X_norm = np.mean(X, axis = 0)\n",
    "\n",
    "# Normalização dos dados de teste e treino\n",
    "X_train_norm = train_Data - X_norm\n",
    "X_valid_norm = valid_Data - X_norm\n",
    "X_test_norm = test_Data - X_norm"
   ]
  },
  {
   "cell_type": "code",
   "execution_count": 20,
   "metadata": {},
   "outputs": [
    {
     "data": {
      "text/plain": [
       "(array([[ 0.        , -0.30383973,  0.79521425, ..., -5.7640512 ,\n",
       "         -2.06789093, -0.36449638],\n",
       "        [ 0.        , -0.30383973,  1.79521425, ...,  9.2359488 ,\n",
       "         13.93210907,  4.63550362],\n",
       "        [ 0.        , -0.30383973,  3.79521425, ..., -0.7640512 ,\n",
       "         -2.06789093, -0.36449638],\n",
       "        ...,\n",
       "        [ 0.        , -0.30383973, -3.20478575, ..., -1.7640512 ,\n",
       "         -2.06789093, -0.36449638],\n",
       "        [ 0.        , -0.30383973, -5.20478575, ...,  2.2359488 ,\n",
       "         -2.06789093, -0.36449638],\n",
       "        [ 0.        ,  0.69616027,  6.79521425, ...,  1.2359488 ,\n",
       "         -1.06789093, -0.36449638]]),\n",
       " array([[ 0.        , -0.30383973, -5.20478575, ...,  7.2359488 ,\n",
       "          2.93210907, -0.36449638],\n",
       "        [ 0.        , -0.30383973,  5.79521425, ..., -5.7640512 ,\n",
       "         -2.06789093, -0.36449638],\n",
       "        [ 0.        , -0.30383973,  2.79521425, ...,  1.2359488 ,\n",
       "         -2.06789093, -0.36449638],\n",
       "        ...,\n",
       "        [ 0.        ,  0.69616027,  7.79521425, ...,  5.2359488 ,\n",
       "          2.93210907, -0.36449638],\n",
       "        [ 0.        , -0.30383973, -5.20478575, ..., -1.7640512 ,\n",
       "         -2.06789093, -0.36449638],\n",
       "        [ 0.        ,  5.69616027, 10.79521425, ..., -6.7640512 ,\n",
       "         -2.06789093, -0.36449638]]),\n",
       " array([[ 0.        , -0.30383973,  3.79521425, ...,  0.2359488 ,\n",
       "         -2.06789093, -0.36449638],\n",
       "        [ 0.        ,  1.69616027,  4.79521425, ...,  2.2359488 ,\n",
       "         -2.06789093, -0.36449638],\n",
       "        [ 0.        , -0.30383973, -0.20478575, ..., -5.7640512 ,\n",
       "         -2.06789093, -0.36449638],\n",
       "        ...,\n",
       "        [ 0.        , -0.30383973, -5.20478575, ..., -4.7640512 ,\n",
       "         -2.06789093, -0.36449638],\n",
       "        [ 0.        , -0.30383973,  3.79521425, ...,  8.2359488 ,\n",
       "          3.93210907, -0.36449638],\n",
       "        [ 0.        , -0.30383973,  1.79521425, ..., -2.7640512 ,\n",
       "         -2.06789093, -0.36449638]]))"
      ]
     },
     "execution_count": 20,
     "metadata": {},
     "output_type": "execute_result"
    }
   ],
   "source": [
    "X_train_norm, X_test_norm, X_valid_norm"
   ]
  },
  {
   "cell_type": "markdown",
   "metadata": {},
   "source": [
    "### Classificação em KNN - Encontrando o melhor valor de K"
   ]
  },
  {
   "cell_type": "code",
   "execution_count": 29,
   "metadata": {},
   "outputs": [],
   "source": [
    "# Range de K\n",
    "K_values = range(1,30,2)"
   ]
  },
  {
   "cell_type": "code",
   "execution_count": 30,
   "metadata": {},
   "outputs": [],
   "source": [
    "# lista da acurácia para cada valor de K\n",
    "accuracy = []"
   ]
  },
  {
   "cell_type": "code",
   "execution_count": 31,
   "metadata": {},
   "outputs": [
    {
     "name": "stdout",
     "output_type": "stream",
     "text": [
      "Com o valor de k igual a 1, a acurácia é: 99.25925925925925\n",
      "Com o valor de k igual a 3, a acurácia é: 99.25925925925925\n",
      "Com o valor de k igual a 5, a acurácia é: 99.25925925925925\n",
      "Com o valor de k igual a 7, a acurácia é: 99.25925925925925\n",
      "Com o valor de k igual a 9, a acurácia é: 99.25925925925925\n",
      "Com o valor de k igual a 11, a acurácia é: 99.25925925925925\n",
      "Com o valor de k igual a 13, a acurácia é: 99.25925925925925\n",
      "Com o valor de k igual a 15, a acurácia é: 99.25925925925925\n",
      "Com o valor de k igual a 17, a acurácia é: 98.51851851851852\n",
      "Com o valor de k igual a 19, a acurácia é: 98.51851851851852\n",
      "Com o valor de k igual a 21, a acurácia é: 97.77777777777777\n",
      "Com o valor de k igual a 23, a acurácia é: 97.03703703703704\n",
      "Com o valor de k igual a 25, a acurácia é: 97.77777777777777\n",
      "Com o valor de k igual a 27, a acurácia é: 97.03703703703704\n",
      "Com o valor de k igual a 29, a acurácia é: 97.03703703703704\n"
     ]
    }
   ],
   "source": [
    "for k in K_values:\n",
    "    modeloKNN = KNeighborsClassifier(n_neighbors=k)\n",
    "    modeloKNN.fit(train_Data, train_Labels)\n",
    "\n",
    "    score = modeloKNN.score(valid_Data, valid_Labels)\n",
    "    print(f'Com o valor de k igual a {k}, a acurácia é: {score*100}')\n",
    "    accuracy.append(score)"
   ]
  },
  {
   "cell_type": "code",
   "execution_count": 32,
   "metadata": {},
   "outputs": [],
   "source": [
    "i = np.argmax(accuracy)"
   ]
  },
  {
   "cell_type": "code",
   "execution_count": 34,
   "metadata": {},
   "outputs": [
    {
     "name": "stdout",
     "output_type": "stream",
     "text": [
      "Com k igual a: 1, o valor de acurácia é: 99.25925925925925\n"
     ]
    }
   ],
   "source": [
    "print(f\"Com k igual a: {K_values[i]}, o valor de acurácia é: {accuracy[i]*100}\")"
   ]
  },
  {
   "cell_type": "code",
   "execution_count": 37,
   "metadata": {},
   "outputs": [
    {
     "data": {
      "text/html": [
       "<style>#sk-container-id-1 {color: black;background-color: white;}#sk-container-id-1 pre{padding: 0;}#sk-container-id-1 div.sk-toggleable {background-color: white;}#sk-container-id-1 label.sk-toggleable__label {cursor: pointer;display: block;width: 100%;margin-bottom: 0;padding: 0.3em;box-sizing: border-box;text-align: center;}#sk-container-id-1 label.sk-toggleable__label-arrow:before {content: \"▸\";float: left;margin-right: 0.25em;color: #696969;}#sk-container-id-1 label.sk-toggleable__label-arrow:hover:before {color: black;}#sk-container-id-1 div.sk-estimator:hover label.sk-toggleable__label-arrow:before {color: black;}#sk-container-id-1 div.sk-toggleable__content {max-height: 0;max-width: 0;overflow: hidden;text-align: left;background-color: #f0f8ff;}#sk-container-id-1 div.sk-toggleable__content pre {margin: 0.2em;color: black;border-radius: 0.25em;background-color: #f0f8ff;}#sk-container-id-1 input.sk-toggleable__control:checked~div.sk-toggleable__content {max-height: 200px;max-width: 100%;overflow: auto;}#sk-container-id-1 input.sk-toggleable__control:checked~label.sk-toggleable__label-arrow:before {content: \"▾\";}#sk-container-id-1 div.sk-estimator input.sk-toggleable__control:checked~label.sk-toggleable__label {background-color: #d4ebff;}#sk-container-id-1 div.sk-label input.sk-toggleable__control:checked~label.sk-toggleable__label {background-color: #d4ebff;}#sk-container-id-1 input.sk-hidden--visually {border: 0;clip: rect(1px 1px 1px 1px);clip: rect(1px, 1px, 1px, 1px);height: 1px;margin: -1px;overflow: hidden;padding: 0;position: absolute;width: 1px;}#sk-container-id-1 div.sk-estimator {font-family: monospace;background-color: #f0f8ff;border: 1px dotted black;border-radius: 0.25em;box-sizing: border-box;margin-bottom: 0.5em;}#sk-container-id-1 div.sk-estimator:hover {background-color: #d4ebff;}#sk-container-id-1 div.sk-parallel-item::after {content: \"\";width: 100%;border-bottom: 1px solid gray;flex-grow: 1;}#sk-container-id-1 div.sk-label:hover label.sk-toggleable__label {background-color: #d4ebff;}#sk-container-id-1 div.sk-serial::before {content: \"\";position: absolute;border-left: 1px solid gray;box-sizing: border-box;top: 0;bottom: 0;left: 50%;z-index: 0;}#sk-container-id-1 div.sk-serial {display: flex;flex-direction: column;align-items: center;background-color: white;padding-right: 0.2em;padding-left: 0.2em;position: relative;}#sk-container-id-1 div.sk-item {position: relative;z-index: 1;}#sk-container-id-1 div.sk-parallel {display: flex;align-items: stretch;justify-content: center;background-color: white;position: relative;}#sk-container-id-1 div.sk-item::before, #sk-container-id-1 div.sk-parallel-item::before {content: \"\";position: absolute;border-left: 1px solid gray;box-sizing: border-box;top: 0;bottom: 0;left: 50%;z-index: -1;}#sk-container-id-1 div.sk-parallel-item {display: flex;flex-direction: column;z-index: 1;position: relative;background-color: white;}#sk-container-id-1 div.sk-parallel-item:first-child::after {align-self: flex-end;width: 50%;}#sk-container-id-1 div.sk-parallel-item:last-child::after {align-self: flex-start;width: 50%;}#sk-container-id-1 div.sk-parallel-item:only-child::after {width: 0;}#sk-container-id-1 div.sk-dashed-wrapped {border: 1px dashed gray;margin: 0 0.4em 0.5em 0.4em;box-sizing: border-box;padding-bottom: 0.4em;background-color: white;}#sk-container-id-1 div.sk-label label {font-family: monospace;font-weight: bold;display: inline-block;line-height: 1.2em;}#sk-container-id-1 div.sk-label-container {text-align: center;}#sk-container-id-1 div.sk-container {/* jupyter's `normalize.less` sets `[hidden] { display: none; }` but bootstrap.min.css set `[hidden] { display: none !important; }` so we also need the `!important` here to be able to override the default hidden behavior on the sphinx rendered scikit-learn.org. See: https://github.com/scikit-learn/scikit-learn/issues/21755 */display: inline-block !important;position: relative;}#sk-container-id-1 div.sk-text-repr-fallback {display: none;}</style><div id=\"sk-container-id-1\" class=\"sk-top-container\"><div class=\"sk-text-repr-fallback\"><pre>KNeighborsClassifier(n_neighbors=1)</pre><b>In a Jupyter environment, please rerun this cell to show the HTML representation or trust the notebook. <br />On GitHub, the HTML representation is unable to render, please try loading this page with nbviewer.org.</b></div><div class=\"sk-container\" hidden><div class=\"sk-item\"><div class=\"sk-estimator sk-toggleable\"><input class=\"sk-toggleable__control sk-hidden--visually\" id=\"sk-estimator-id-1\" type=\"checkbox\" checked><label for=\"sk-estimator-id-1\" class=\"sk-toggleable__label sk-toggleable__label-arrow\">KNeighborsClassifier</label><div class=\"sk-toggleable__content\"><pre>KNeighborsClassifier(n_neighbors=1)</pre></div></div></div></div></div>"
      ],
      "text/plain": [
       "KNeighborsClassifier(n_neighbors=1)"
      ]
     },
     "execution_count": 37,
     "metadata": {},
     "output_type": "execute_result"
    }
   ],
   "source": [
    "model_f = KNeighborsClassifier(n_neighbors=K_values[i])\n",
    "model_f.fit(train_Data, train_Labels)"
   ]
  },
  {
   "cell_type": "code",
   "execution_count": 39,
   "metadata": {},
   "outputs": [
    {
     "name": "stdout",
     "output_type": "stream",
     "text": [
      "Avaliação dos dados de teste\n",
      "              precision    recall  f1-score   support\n",
      "\n",
      "           0       1.00      1.00      1.00        43\n",
      "           1       0.95      1.00      0.97        37\n",
      "           2       1.00      1.00      1.00        38\n",
      "           3       0.98      0.98      0.98        46\n",
      "           4       0.98      0.98      0.98        55\n",
      "           5       0.98      1.00      0.99        59\n",
      "           6       1.00      1.00      1.00        45\n",
      "           7       1.00      0.98      0.99        41\n",
      "           8       0.97      0.95      0.96        38\n",
      "           9       0.96      0.94      0.95        48\n",
      "\n",
      "    accuracy                           0.98       450\n",
      "   macro avg       0.98      0.98      0.98       450\n",
      "weighted avg       0.98      0.98      0.98       450\n",
      "\n"
     ]
    }
   ],
   "source": [
    "predict = model_f.predict(test_Data)\n",
    "\n",
    "print('Avaliação dos dados de teste')\n",
    "print(classification_report(test_Labels, predict))"
   ]
  },
  {
   "cell_type": "code",
   "execution_count": 40,
   "metadata": {},
   "outputs": [
    {
     "name": "stdout",
     "output_type": "stream",
     "text": [
      "[[43  0  0  0  0  0  0  0  0  0]\n",
      " [ 0 37  0  0  0  0  0  0  0  0]\n",
      " [ 0  0 38  0  0  0  0  0  0  0]\n",
      " [ 0  0  0 45  0  0  0  0  1  0]\n",
      " [ 0  1  0  0 54  0  0  0  0  0]\n",
      " [ 0  0  0  0  0 59  0  0  0  0]\n",
      " [ 0  0  0  0  0  0 45  0  0  0]\n",
      " [ 0  0  0  0  0  0  0 40  0  1]\n",
      " [ 0  1  0  0  0  0  0  0 36  1]\n",
      " [ 0  0  0  1  1  1  0  0  0 45]]\n"
     ]
    }
   ],
   "source": [
    "# avaliando com a matriz de confusão\n",
    "\n",
    "print(confusion_matrix(test_Labels, predict))"
   ]
  },
  {
   "cell_type": "code",
   "execution_count": 41,
   "metadata": {},
   "outputs": [
    {
     "name": "stdout",
     "output_type": "stream",
     "text": [
      "Acho que o dígito é: 9\n"
     ]
    },
    {
     "data": {
      "image/png": "[encoded data removed]",
      "text/plain": [
       "<Figure size 432x288 with 1 Axes>"
      ]
     },
     "metadata": {
      "needs_background": "light"
     },
     "output_type": "display_data"
    },
    {
     "name": "stdout",
     "output_type": "stream",
     "text": [
      "Acho que o dígito é: 4\n"
     ]
    },
    {
     "data": {
      "image/png": "[encoded data removed]",
      "text/plain": [
       "<Figure size 432x288 with 1 Axes>"
      ]
     },
     "metadata": {
      "needs_background": "light"
     },
     "output_type": "display_data"
    },
    {
     "name": "stdout",
     "output_type": "stream",
     "text": [
      "Acho que o dígito é: 4\n"
     ]
    },
    {
     "data": {
      "image/png": "[encoded data removed]",
      "text/plain": [
       "<Figure size 432x288 with 1 Axes>"
      ]
     },
     "metadata": {
      "needs_background": "light"
     },
     "output_type": "display_data"
    },
    {
     "name": "stdout",
     "output_type": "stream",
     "text": [
      "Acho que o dígito é: 2\n"
     ]
    },
    {
     "data": {
      "image/png": "[encoded data removed]",
      "text/plain": [
       "<Figure size 432x288 with 1 Axes>"
      ]
     },
     "metadata": {
      "needs_background": "light"
     },
     "output_type": "display_data"
    },
    {
     "name": "stdout",
     "output_type": "stream",
     "text": [
      "Acho que o dígito é: 5\n"
     ]
    },
    {
     "data": {
      "image/png": "[encoded data removed]",
      "text/plain": [
       "<Figure size 432x288 with 1 Axes>"
      ]
     },
     "metadata": {
      "needs_background": "light"
     },
     "output_type": "display_data"
    }
   ],
   "source": [
    "# Fazendo as previsões com os dados de teste\n",
    "\n",
    "for i in np.random.randint(0, high=len(test_Labels), size=(5,)):\n",
    "    image = test_Data[i]\n",
    "    predict = model_f.predict([image])[0]\n",
    "\n",
    "    imgdata = np.array(image, dtype=float)\n",
    "    pixels = imgdata.reshape((8,8))\n",
    "    plt.imshow(pixels, cmap='gray')\n",
    "    plt.annotate(predict, (3,3), bbox={'facecolor': 'white'}, fontsize=16)\n",
    "    print(\"Acho que o dígito é: {}\".format(predict))\n",
    "    plt.show()"
   ]
  },
  {
   "cell_type": "code",
   "execution_count": 66,
   "metadata": {},
   "outputs": [
    {
     "data": {
      "image/png": "[encoded data removed]",
      "text/plain": [
       "<Figure size 432x288 with 1 Axes>"
      ]
     },
     "metadata": {
      "needs_background": "light"
     },
     "output_type": "display_data"
    },
    {
     "data": {
      "text/plain": [
       "(array([[0.        , 0.        , 0.47393911, 0.11134266, 0.16149478,\n",
       "         0.04969427, 0.        , 0.        ],\n",
       "        [0.        , 0.39364171, 0.        , 0.26278808, 0.07886951,\n",
       "         0.        , 0.        , 0.        ],\n",
       "        [0.39755937, 0.15320818, 0.30100508, 0.21366146, 0.        ,\n",
       "         0.        , 0.11586766, 0.        ],\n",
       "        [0.        , 0.40009951, 0.36341465, 0.35059466, 0.00577341,\n",
       "         0.33865201, 0.        , 0.46532382],\n",
       "        [0.        , 0.17149042, 0.13950108, 0.44705988, 0.21275179,\n",
       "         0.36043055, 0.05014972, 0.        ],\n",
       "        [0.        , 0.        , 0.04157544, 0.        , 0.        ,\n",
       "         0.        , 0.        , 0.        ],\n",
       "        [0.47490911, 0.4075379 , 0.        , 0.        , 0.        ,\n",
       "         0.        , 0.        , 0.        ],\n",
       "        [0.        , 0.        , 0.07173259, 0.06479941, 0.        ,\n",
       "         0.        , 0.02376859, 0.        ]]),\n",
       " 7)"
      ]
     },
     "execution_count": 66,
     "metadata": {},
     "output_type": "execute_result"
    }
   ],
   "source": [
    "# teste para a geração de um código que faça a criação de números aleatórios fora dos dados trazidos via scikit learn\n",
    "\n",
    "def generate_random_number_image():\n",
    "    # Gerar um número aleatório de 0 a 9\n",
    "    random_number = np.random.randint(0, 10)\n",
    "\n",
    "    # Criar uma matriz 28x28 com valores aleatórios entre 0 e 1\n",
    "    image_matrix = np.random.rand(8,8)\n",
    "\n",
    "    # Definir pixels correspondentes ao número aleatório para 1\n",
    "    image_matrix[image_matrix > 0.5] = 1 if random_number % 2 == 0 else 0\n",
    "\n",
    "    # # Exibir a imagem gerada\n",
    "    # plt.imshow(image_matrix, cmap='gray')\n",
    "    # plt.title(f'Número Aleatório: {random_number}')\n",
    "    # plt.show()\n",
    "\n",
    "    return image_matrix, random_number\n",
    "\n",
    "# Chamar a função para gerar e exibir uma nova imagem a cada vez\n",
    "generate_random_number_image()\n"
   ]
  },
  {
   "cell_type": "code",
   "execution_count": 67,
   "metadata": {},
   "outputs": [
    {
     "data": {
      "image/png": "[encoded data removed]",
      "text/plain": [
       "<Figure size 432x288 with 1 Axes>"
      ]
     },
     "metadata": {
      "needs_background": "light"
     },
     "output_type": "display_data"
    },
    {
     "name": "stdout",
     "output_type": "stream",
     "text": [
      "Acho que o dígito é: 1, Verdadeiro: 6\n"
     ]
    },
    {
     "data": {
      "image/png": "[encoded data removed]",
      "text/plain": [
       "<Figure size 432x288 with 1 Axes>"
      ]
     },
     "metadata": {
      "needs_background": "light"
     },
     "output_type": "display_data"
    }
   ],
   "source": [
    "# Gerando as respostas com um número aleatório criado via função Python:\n",
    "\n",
    "image, true_label = generate_random_number_image()\n",
    "predict = model_f.predict([image.flatten()])[0]\n",
    "\n",
    "imgdata = np.array(image, dtype=float)\n",
    "pixels = imgdata.reshape((8, 8))\n",
    "plt.imshow(pixels, cmap='gray')\n",
    "plt.annotate(predict, (3, 3), bbox={'facecolor': 'white'}, fontsize=16)\n",
    "print(\"Acho que o dígito é: {}, Verdadeiro: {}\".format(predict, true_label))\n",
    "plt.show()"
   ]
  }
 ],
 "metadata": {
  "kernelspec": {
   "display_name": "Python 3",
   "language": "python",
   "name": "python3"
  },
  "language_info": {
   "codemirror_mode": {
    "name": "ipython",
    "version": 3
   },
   "file_extension": ".py",
   "mimetype": "text/x-python",
   "name": "python",
   "nbconvert_exporter": "python",
   "pygments_lexer": "ipython3",
   "version": "3.9.7"
  }
 },
 "nbformat": 4,
 "nbformat_minor": 2
}
